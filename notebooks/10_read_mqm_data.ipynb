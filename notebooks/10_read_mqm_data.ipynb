{
 "cells": [
  {
   "cell_type": "code",
   "execution_count": 1,
   "metadata": {},
   "outputs": [],
   "source": [
    "import pandas as pd\n",
    "import sys\n",
    "from utils import categories_map\n",
    "\n",
    "\n",
    "category_replace = {\n",
    "    \"no-error\": \"No-error\",\n",
    "    \"Other/-\": \"Other\",\n",
    "    \"Terminology/Inappropriate for context\": \"Terminology/Inappropriate\",\n",
    "    \"Terminology/Inconsistent use of terminology\": \"Terminology/Inconsistent\",\n",
    "}\n",
    "\n",
    "\n",
    "class2id = {\n",
    "    \"Neutral\": 1,\n",
    "    \"Minor\": 2,\n",
    "    \"Major\": 3,\n",
    "}\n",
    "id2class = {v: k for k, v in class2id.items()}\n",
    "\n",
    "\n",
    "def clean_target(text):\n",
    "    return text.replace(\"<v>\", \"\").replace(\"</v>\", \"\")\n"
   ]
  },
  {
   "cell_type": "code",
   "execution_count": 2,
   "metadata": {},
   "outputs": [],
   "source": [
    "df_2020 = pd.read_csv(\n",
    "    \"./wmt-mqm-human-evaluation/newstest2020/ende/mqm_newstest2020_ende.tsv\", sep=\"\\t\"\n",
    ")\n",
    "\n",
    "# df_2021 = pd.read_csv(\n",
    "#     \"./wmt-mqm-human-evaluation/newstest2021/ende/mqm-newstest2021_ende.tsv\",\n",
    "#     sep=\"\\t\",\n",
    "#     on_bad_lines=\"skip\",\n",
    "# )\n",
    "\n",
    "# df = pd.concat([df_2020, df_2021], ignore_index=True)\n",
    "\n",
    "df= df_2020\n"
   ]
  },
  {
   "cell_type": "code",
   "execution_count": 3,
   "metadata": {},
   "outputs": [],
   "source": [
    "# Replace category column with a dictionary setting\n",
    "df[\"category\"] = df[\"category\"].replace(category_replace)\n",
    "df[\"category\"] = df[\"category\"].replace(categories_map)"
   ]
  },
  {
   "cell_type": "code",
   "execution_count": 4,
   "metadata": {},
   "outputs": [],
   "source": [
    "df.severity = df.severity.replace(\n",
    "    {\n",
    "        \"no-error\": \"Neutral\",\n",
    "        \"No-error\": \"Neutral\",\n",
    "        \"word order\": \"Minor\",\n",
    "    }\n",
    ").values.reshape(-1, 1)\n"
   ]
  },
  {
   "cell_type": "code",
   "execution_count": 5,
   "metadata": {},
   "outputs": [
    {
     "data": {
      "text/plain": [
       "(79020, 9)"
      ]
     },
     "execution_count": 5,
     "metadata": {},
     "output_type": "execute_result"
    }
   ],
   "source": [
    "df.shape"
   ]
  },
  {
   "cell_type": "code",
   "execution_count": 6,
   "metadata": {},
   "outputs": [
    {
     "data": {
      "text/plain": [
       "(79020, 9)"
      ]
     },
     "execution_count": 6,
     "metadata": {},
     "output_type": "execute_result"
    }
   ],
   "source": [
    "df.dropna(subset=[\"severity\"], inplace=True)\n",
    "df.shape"
   ]
  },
  {
   "cell_type": "code",
   "execution_count": 7,
   "metadata": {},
   "outputs": [
    {
     "name": "stdout",
     "output_type": "stream",
     "text": [
      "Severity Levels:  ['Minor' 'Major' 'Neutral']\n",
      "Error Categories:  ['Other' 'Accuracy' 'No-error' 'Fluency' 'Terminology' 'Locale convention']\n"
     ]
    }
   ],
   "source": [
    "print(\"Severity Levels: \", df.severity.unique())\n",
    "print(\"Error Categories: \", df.category.unique())"
   ]
  },
  {
   "cell_type": "code",
   "execution_count": 8,
   "metadata": {},
   "outputs": [],
   "source": [
    "df.to_csv(\"./data/non_reduced_wmt.csv\", index=False)"
   ]
  },
  {
   "cell_type": "code",
   "execution_count": 9,
   "metadata": {},
   "outputs": [],
   "source": [
    "def f(x):\n",
    "     doc_id = x['doc_id'].value_counts().index[0]\n",
    "     seg_id = x['seg_id'].value_counts().index[0]\n",
    "     sample_id = f\"{doc_id}_{seg_id}\"\n",
    "     return pd.Series(dict(sample_id=sample_id,\n",
    "                         source = x['source'].values[0], # takes first item as they are the same\n",
    "                         target = clean_target(x['target'].values[0]),  # takes first item as they are the same\n",
    "                         category = list(set(x['category'].values)),  # Create unique set of categories provided by the rater\n",
    "                         severity = x['severity'].value_counts().index[0], # Takes majority of the values\n",
    "                         ))\n",
    "\n",
    "\n",
    "# Grupby system and get majority of severity\n",
    "df_reduced = df.groupby([\"system\", \"seg_id\"]).apply(f)\n",
    "df_reduced.reset_index(inplace=True)"
   ]
  },
  {
   "cell_type": "code",
   "execution_count": 10,
   "metadata": {},
   "outputs": [
    {
     "data": {
      "text/html": [
       "<div>\n",
       "<style scoped>\n",
       "    .dataframe tbody tr th:only-of-type {\n",
       "        vertical-align: middle;\n",
       "    }\n",
       "\n",
       "    .dataframe tbody tr th {\n",
       "        vertical-align: top;\n",
       "    }\n",
       "\n",
       "    .dataframe thead th {\n",
       "        text-align: right;\n",
       "    }\n",
       "</style>\n",
       "<table border=\"1\" class=\"dataframe\">\n",
       "  <thead>\n",
       "    <tr style=\"text-align: right;\">\n",
       "      <th></th>\n",
       "      <th>system</th>\n",
       "      <th>seg_id</th>\n",
       "      <th>sample_id</th>\n",
       "      <th>source</th>\n",
       "      <th>target</th>\n",
       "      <th>category</th>\n",
       "      <th>severity</th>\n",
       "    </tr>\n",
       "  </thead>\n",
       "  <tbody>\n",
       "    <tr>\n",
       "      <th>0</th>\n",
       "      <td>Human-A.0</td>\n",
       "      <td>1</td>\n",
       "      <td>1_1</td>\n",
       "      <td>Michael Jackson wore tape on his nose to get f...</td>\n",
       "      <td>Ehemaliger Bodyguard berichtet: Michael Jackso...</td>\n",
       "      <td>[No-error]</td>\n",
       "      <td>Neutral</td>\n",
       "    </tr>\n",
       "    <tr>\n",
       "      <th>1</th>\n",
       "      <td>Human-A.0</td>\n",
       "      <td>2</td>\n",
       "      <td>2_2</td>\n",
       "      <td>Michael Jackson's former bodyguard has claimed...</td>\n",
       "      <td>Der ehemalige Bodyguard von Michael Jackson be...</td>\n",
       "      <td>[Accuracy, Fluency]</td>\n",
       "      <td>Minor</td>\n",
       "    </tr>\n",
       "    <tr>\n",
       "      <th>2</th>\n",
       "      <td>Human-A.0</td>\n",
       "      <td>3</td>\n",
       "      <td>3_3</td>\n",
       "      <td>Matt Fiddes, now a property developer and owne...</td>\n",
       "      <td>Matt Fiddes, jetzt ein Bauträger und Inhaber e...</td>\n",
       "      <td>[Other, Accuracy, Fluency, Terminology]</td>\n",
       "      <td>Minor</td>\n",
       "    </tr>\n",
       "    <tr>\n",
       "      <th>3</th>\n",
       "      <td>Human-A.0</td>\n",
       "      <td>4</td>\n",
       "      <td>4_4</td>\n",
       "      <td>To get front pages, he would reportedly don su...</td>\n",
       "      <td>Um auf Titelseiten zu gelangen, trug er angebl...</td>\n",
       "      <td>[No-error, Accuracy]</td>\n",
       "      <td>Minor</td>\n",
       "    </tr>\n",
       "    <tr>\n",
       "      <th>4</th>\n",
       "      <td>Human-A.0</td>\n",
       "      <td>5</td>\n",
       "      <td>5_5</td>\n",
       "      <td>We'll tell you what's true. You can form your ...</td>\n",
       "      <td>Wir sagen Ihnen die Fakten. Sie können sich da...</td>\n",
       "      <td>[No-error]</td>\n",
       "      <td>Neutral</td>\n",
       "    </tr>\n",
       "    <tr>\n",
       "      <th>...</th>\n",
       "      <td>...</td>\n",
       "      <td>...</td>\n",
       "      <td>...</td>\n",
       "      <td>...</td>\n",
       "      <td>...</td>\n",
       "      <td>...</td>\n",
       "      <td>...</td>\n",
       "    </tr>\n",
       "    <tr>\n",
       "      <th>14175</th>\n",
       "      <td>eTranslation.737</td>\n",
       "      <td>1414</td>\n",
       "      <td>10_1414</td>\n",
       "      <td>Listing other activities to be taken up by the...</td>\n",
       "      <td>Herr Chatterjee listete weitere Aktivitäten au...</td>\n",
       "      <td>[Other, Fluency]</td>\n",
       "      <td>Minor</td>\n",
       "    </tr>\n",
       "    <tr>\n",
       "      <th>14176</th>\n",
       "      <td>eTranslation.737</td>\n",
       "      <td>1415</td>\n",
       "      <td>11_1415</td>\n",
       "      <td>Chief Minister Mamata Banerjee had recently an...</td>\n",
       "      <td>Ministerpräsidentin Mamata Banerjee hatte kürz...</td>\n",
       "      <td>[No-error, Fluency]</td>\n",
       "      <td>Minor</td>\n",
       "    </tr>\n",
       "    <tr>\n",
       "      <th>14177</th>\n",
       "      <td>eTranslation.737</td>\n",
       "      <td>1416</td>\n",
       "      <td>12_1416</td>\n",
       "      <td>On Thursday, a bronze statue of Vidyasagar was...</td>\n",
       "      <td>Am Donnerstag wurde eine Bronzestatue von Vidy...</td>\n",
       "      <td>[No-error]</td>\n",
       "      <td>Neutral</td>\n",
       "    </tr>\n",
       "    <tr>\n",
       "      <th>14178</th>\n",
       "      <td>eTranslation.737</td>\n",
       "      <td>1417</td>\n",
       "      <td>13_1417</td>\n",
       "      <td>Those who are against the social reforms of Vi...</td>\n",
       "      <td>„Diejenigen, die gegen die Sozialreformen von ...</td>\n",
       "      <td>[Other, Fluency]</td>\n",
       "      <td>Minor</td>\n",
       "    </tr>\n",
       "    <tr>\n",
       "      <th>14179</th>\n",
       "      <td>eTranslation.737</td>\n",
       "      <td>1418</td>\n",
       "      <td>14_1418</td>\n",
       "      <td>A bust of the social reformer was vandalised d...</td>\n",
       "      <td>Eine Büste des Sozialreformers wurde im Mai wä...</td>\n",
       "      <td>[Accuracy, Terminology]</td>\n",
       "      <td>Minor</td>\n",
       "    </tr>\n",
       "  </tbody>\n",
       "</table>\n",
       "<p>14180 rows × 7 columns</p>\n",
       "</div>"
      ],
      "text/plain": [
       "                 system  seg_id sample_id  \\\n",
       "0             Human-A.0       1       1_1   \n",
       "1             Human-A.0       2       2_2   \n",
       "2             Human-A.0       3       3_3   \n",
       "3             Human-A.0       4       4_4   \n",
       "4             Human-A.0       5       5_5   \n",
       "...                 ...     ...       ...   \n",
       "14175  eTranslation.737    1414   10_1414   \n",
       "14176  eTranslation.737    1415   11_1415   \n",
       "14177  eTranslation.737    1416   12_1416   \n",
       "14178  eTranslation.737    1417   13_1417   \n",
       "14179  eTranslation.737    1418   14_1418   \n",
       "\n",
       "                                                  source  \\\n",
       "0      Michael Jackson wore tape on his nose to get f...   \n",
       "1      Michael Jackson's former bodyguard has claimed...   \n",
       "2      Matt Fiddes, now a property developer and owne...   \n",
       "3      To get front pages, he would reportedly don su...   \n",
       "4      We'll tell you what's true. You can form your ...   \n",
       "...                                                  ...   \n",
       "14175  Listing other activities to be taken up by the...   \n",
       "14176  Chief Minister Mamata Banerjee had recently an...   \n",
       "14177  On Thursday, a bronze statue of Vidyasagar was...   \n",
       "14178  Those who are against the social reforms of Vi...   \n",
       "14179  A bust of the social reformer was vandalised d...   \n",
       "\n",
       "                                                  target  \\\n",
       "0      Ehemaliger Bodyguard berichtet: Michael Jackso...   \n",
       "1      Der ehemalige Bodyguard von Michael Jackson be...   \n",
       "2      Matt Fiddes, jetzt ein Bauträger und Inhaber e...   \n",
       "3      Um auf Titelseiten zu gelangen, trug er angebl...   \n",
       "4      Wir sagen Ihnen die Fakten. Sie können sich da...   \n",
       "...                                                  ...   \n",
       "14175  Herr Chatterjee listete weitere Aktivitäten au...   \n",
       "14176  Ministerpräsidentin Mamata Banerjee hatte kürz...   \n",
       "14177  Am Donnerstag wurde eine Bronzestatue von Vidy...   \n",
       "14178  „Diejenigen, die gegen die Sozialreformen von ...   \n",
       "14179  Eine Büste des Sozialreformers wurde im Mai wä...   \n",
       "\n",
       "                                      category severity  \n",
       "0                                   [No-error]  Neutral  \n",
       "1                          [Accuracy, Fluency]    Minor  \n",
       "2      [Other, Accuracy, Fluency, Terminology]    Minor  \n",
       "3                         [No-error, Accuracy]    Minor  \n",
       "4                                   [No-error]  Neutral  \n",
       "...                                        ...      ...  \n",
       "14175                         [Other, Fluency]    Minor  \n",
       "14176                      [No-error, Fluency]    Minor  \n",
       "14177                               [No-error]  Neutral  \n",
       "14178                         [Other, Fluency]    Minor  \n",
       "14179                  [Accuracy, Terminology]    Minor  \n",
       "\n",
       "[14180 rows x 7 columns]"
      ]
     },
     "execution_count": 10,
     "metadata": {},
     "output_type": "execute_result"
    }
   ],
   "source": [
    "df_reduced"
   ]
  },
  {
   "cell_type": "code",
   "execution_count": 11,
   "metadata": {},
   "outputs": [],
   "source": [
    "# Save the data\n",
    "df_reduced.to_csv(\"./data/wmt_reduced.csv\", index=False)"
   ]
  },
  {
   "cell_type": "code",
   "execution_count": 12,
   "metadata": {},
   "outputs": [],
   "source": [
    "# Load the data\n",
    "df_reduced = pd.read_csv(\"./data/wmt_reduced.csv\")"
   ]
  },
  {
   "cell_type": "code",
   "execution_count": null,
   "metadata": {},
   "outputs": [],
   "source": []
  }
 ],
 "metadata": {
  "interpreter": {
   "hash": "b49589068baa6bec98c3349fdcd559e038c68bae5a4c5a7d44d7dd6cd95a33f2"
  },
  "kernelspec": {
   "display_name": "Python 3.8.12 64-bit ('interactive-learning': conda)",
   "language": "python",
   "name": "python3"
  },
  "language_info": {
   "codemirror_mode": {
    "name": "ipython",
    "version": 3
   },
   "file_extension": ".py",
   "mimetype": "text/x-python",
   "name": "python",
   "nbconvert_exporter": "python",
   "pygments_lexer": "ipython3",
   "version": "3.8.12"
  },
  "orig_nbformat": 4
 },
 "nbformat": 4,
 "nbformat_minor": 2
}
