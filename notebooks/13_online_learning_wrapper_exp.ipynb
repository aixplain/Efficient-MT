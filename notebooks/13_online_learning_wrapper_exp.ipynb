{
 "cells": [
  {
   "cell_type": "code",
   "execution_count": 1,
   "metadata": {},
   "outputs": [],
   "source": [
    "# TODO: convert online learning models into custom models\n",
    "from data_centric.custommodels import VWModel\n",
    "from data_centric.uncertainty import prediction_sampling, classifier_prediction, entropy_sampling\n",
    "\n",
    "import pandas as pd\n",
    "import numpy as np\n",
    "\n",
    "from data_centric.models import ActiveLearner\n",
    "from utils import (\n",
    "    category_replace,\n",
    "    class2id,\n",
    "    feature_names,\n",
    "    get_test_example,\n",
    "    get_training_example,\n",
    ")\n",
    "\n",
    "\n",
    "\n",
    "df = pd.read_csv(\"./data/wmt_2020_all_reduced_system_class_updated.csv\")\n",
    "\n",
    "df[\"isUpdated\"] = False\n",
    "df[:500][\"isUpdated\"] = True\n",
    "# Replace category column with a dictionary setting\n",
    "df[\"category\"] = df[\"category\"].replace(category_replace)\n",
    "\n",
    "\n",
    "## get sample_features using sample_id\n",
    "def get_features(sample_id):\n",
    "    sample_features = df.loc[sample_id]\n",
    "    n_rows = len(sample_id)\n",
    "    return sample_features[feature_names].values.reshape(n_rows, -1), np.array(\n",
    "        sample_features[\"severity\"]\n",
    "    ).reshape(n_rows, 1)\n"
   ]
  },
  {
   "cell_type": "code",
   "execution_count": 13,
   "metadata": {},
   "outputs": [],
   "source": [
    "custom_model = VWModel(\"--quiet --save_resume --oaa 2 --probabilities\", get_training_example, get_test_example, query_strategy=prediction_sampling)\n",
    "init_sample_ids = df[df[\"isUpdated\"] == True].index.values\n",
    "X, y  = get_features(init_sample_ids)\n",
    "y = [class2id[_[0]] for _ in y]\n",
    "y = np.array(y).reshape(-1)"
   ]
  },
  {
   "cell_type": "code",
   "execution_count": 14,
   "metadata": {},
   "outputs": [],
   "source": [
    "custom_model.learn(X, y)"
   ]
  },
  {
   "cell_type": "code",
   "execution_count": 15,
   "metadata": {},
   "outputs": [
    {
     "data": {
      "text/plain": [
       "(array([3]),\n",
       " array([[-1.00000000e+00,  4.80000000e+01,  1.17878788e+00,\n",
       "         -2.00000000e+00, -1.00000000e+00,  0.00000000e+00,\n",
       "          1.00000000e+00,  0.00000000e+00,  1.00000000e+00,\n",
       "          0.00000000e+00, -2.00000000e+00,  0.00000000e+00,\n",
       "          0.00000000e+00, -2.00000000e+00,  0.00000000e+00,\n",
       "          3.00000000e+00,  2.00000000e+00, -1.00000000e+00,\n",
       "          0.00000000e+00,  0.00000000e+00,  0.00000000e+00,\n",
       "          0.00000000e+00,  0.00000000e+00,  0.00000000e+00,\n",
       "          0.00000000e+00,  4.00000000e+00,  9.00000000e+00,\n",
       "          0.00000000e+00,  0.00000000e+00,  0.00000000e+00,\n",
       "         -2.00000000e+00,  0.00000000e+00,  0.00000000e+00,\n",
       "          9.00000000e+00,  6.00000000e+00,  2.00000000e+00,\n",
       "          0.00000000e+00, -1.00000000e+00,  0.00000000e+00,\n",
       "          0.00000000e+00,  0.00000000e+00,  0.00000000e+00,\n",
       "          0.00000000e+00, -1.00000000e+00,  8.00000000e+00,\n",
       "          0.00000000e+00,  0.00000000e+00,  4.00000000e+00,\n",
       "          0.00000000e+00,  0.00000000e+00,  0.00000000e+00,\n",
       "          0.00000000e+00,  0.00000000e+00,  0.00000000e+00,\n",
       "         -1.00000000e+00,  0.00000000e+00,  1.00000000e+00,\n",
       "          0.00000000e+00,  0.00000000e+00,  0.00000000e+00,\n",
       "          1.00000000e+00,  0.00000000e+00,  0.00000000e+00,\n",
       "          0.00000000e+00,  0.00000000e+00,  0.00000000e+00,\n",
       "          2.00000000e+00,  0.00000000e+00,  1.00000000e+00,\n",
       "          0.00000000e+00,  0.00000000e+00,  0.00000000e+00,\n",
       "          0.00000000e+00,  0.00000000e+00,  0.00000000e+00,\n",
       "          0.00000000e+00,  0.00000000e+00,  0.00000000e+00,\n",
       "          2.00000000e+00,  3.00000000e+00,  1.00000000e+00,\n",
       "          0.00000000e+00,  0.00000000e+00,  0.00000000e+00,\n",
       "          0.00000000e+00,  0.00000000e+00,  0.00000000e+00,\n",
       "          0.00000000e+00,  0.00000000e+00,  0.00000000e+00,\n",
       "          0.00000000e+00,  0.00000000e+00,  0.00000000e+00,\n",
       "          0.00000000e+00,  0.00000000e+00,  0.00000000e+00,\n",
       "          0.00000000e+00,  0.00000000e+00,  0.00000000e+00,\n",
       "          0.00000000e+00,  0.00000000e+00,  0.00000000e+00,\n",
       "          0.00000000e+00,  0.00000000e+00,  0.00000000e+00,\n",
       "          0.00000000e+00,  0.00000000e+00,  0.00000000e+00,\n",
       "          0.00000000e+00,  0.00000000e+00,  0.00000000e+00,\n",
       "          0.00000000e+00,  0.00000000e+00,  0.00000000e+00,\n",
       "          0.00000000e+00,  0.00000000e+00,  0.00000000e+00,\n",
       "          0.00000000e+00,  0.00000000e+00,  0.00000000e+00,\n",
       "          0.00000000e+00,  2.44300000e-01,  1.00000000e-04,\n",
       "          4.00000000e-04,  0.00000000e+00,  8.85700000e+01,\n",
       "          1.43222727e-01,  1.01885455e-01]]))"
      ]
     },
     "execution_count": 15,
     "metadata": {},
     "output_type": "execute_result"
    }
   ],
   "source": [
    "custom_model.query(X)"
   ]
  }
 ],
 "metadata": {
  "interpreter": {
   "hash": "b49589068baa6bec98c3349fdcd559e038c68bae5a4c5a7d44d7dd6cd95a33f2"
  },
  "kernelspec": {
   "display_name": "Python 3.8.12 64-bit ('interactive-learning': conda)",
   "language": "python",
   "name": "python3"
  },
  "language_info": {
   "codemirror_mode": {
    "name": "ipython",
    "version": 3
   },
   "file_extension": ".py",
   "mimetype": "text/x-python",
   "name": "python",
   "nbconvert_exporter": "python",
   "pygments_lexer": "ipython3",
   "version": "3.8.12"
  },
  "orig_nbformat": 4
 },
 "nbformat": 4,
 "nbformat_minor": 2
}
