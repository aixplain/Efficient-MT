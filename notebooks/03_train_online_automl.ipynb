{
 "cells": [
  {
   "cell_type": "code",
   "execution_count": 112,
   "metadata": {},
   "outputs": [],
   "source": [
    "import os\n",
    "from os.path import join\n",
    "import re\n",
    "import pickle\n",
    "\n",
    "from glob import glob\n",
    "import pandas as pd\n",
    "import matplotlib.pyplot as plt\n",
    "import numpy as np\n",
    "import seaborn as sns\n",
    "from sklearn import preprocessing\n",
    "from sklearn.model_selection import train_test_split\n",
    "\n",
    "from vowpalwabbit.DFtoVW import DFtoVW\n",
    "from vowpalwabbit.pyvw import vw\n",
    "\n",
    "# Graphical\n",
    "SUPTITLE_FONTSIZE = 20\n",
    "SUPTITLE_FONTWEIGHT = \"bold\"\n",
    "TITLE_FONTSIZE = 15\n",
    "\n",
    "from utils import default_feature_str, default_feature_str, get_test_example, get_vw_examples, get_training_example"
   ]
  },
  {
   "cell_type": "markdown",
   "metadata": {},
   "source": [
    "## Prepare the datasert in the vowpalwabbit format"
   ]
  },
  {
   "cell_type": "code",
   "execution_count": 113,
   "metadata": {},
   "outputs": [],
   "source": [
    "feature_names =[\"Num token\",\"Num char\",\"Avg word length\",\"Num ADJ\",\"Num ADP\",\"Num ADV\",\"Num AUX\",\"Num CCONJ\",\"Num DET\",\"Num INTJ\",\"Num NOUN\",\"Num NUM\",\"Num PART\",\"Num PRON\",\"Num PROPN\",\"Num PUNCT\",\"Num SCONJ\",\"Num SYM\",\"Num VERB\",\"Num X\",\"Num LOC\",\"Num MISC\",\"Num ORG\",\"Num PER\",\"Num Abbr=Yes\",\"Num Case=Acc\",\"Num Case=Nom\",\"Num Definite=Def\",\"Num Definite=Ind\",\"Num Degree=Cmp\",\"Num Degree=Pos\",\"Num Degree=Sup\",\"Num Foreign=Yes\",\"Num Gender=Fem\",\"Num Gender=Masc\",\"Num Gender=Neut\",\"Num Mood=Imp\",\"Num Mood=Ind\",\"Num NumForm=Digit\",\"Num NumForm=Word\",\"Num NumType=Card\",\"Num NumType=Mult\",\"Num NumType=Ord\",\"Num Number=Plur\",\"Num Number=Sing\",\"Num Person=1\",\"Num Person=2\",\"Num Person=3\",\"Num Polarity=Neg\",\"Num Poss=Yes\",\"Num PronType=Art\",\"Num PronType=Dem\",\"Num PronType=Int\",\"Num PronType=Prs\",\"Num PronType=Rel\",\"Num Reflex=Yes\",\"Num Tense=Past\",\"Num Tense=Pres\",\"Num VerbForm=Fin\",\"Num VerbForm=Ger\",\"Num VerbForm=Inf\",\"Num VerbForm=Part\",\"Num Voice=Pass\",\"Num Style=Expr\",\"Num NumForm=Roman\",\"Num Mood=Cnd\",\"Num Mood=Sub\",\"Num Number[psor]=Plur\",\"Num Number[psor]=Sing\",\"Num Person[psor]=1\",\"Num Person[psor]=2\",\"Num Person[psor]=3\",\"Num PronType=Exc\",\"Num PronType=Ind\",\"Num PronType=Neg\",\"Num Tense=Fut\",\"Num Tense=Imp\",\"Num Typo=Yes\",\"Num Case=Dat\",\"Num Case=Gen\",\"Num Gender[psor]=Masc,Neut\",\"Num Animacy=Anim\",\"Num Animacy=Inan\",\"Num Aspect=Imp\",\"Num Aspect=Perf\",\"Num Case=Ins\",\"Num Case=Loc\",\"Num Variant=Short\",\"Num VerbForm=Conv\",\"Num Voice=Act\",\"Num Voice=Mid\",\"Num AdpType=Comprep\",\"Num AdpType=Prep\",\"Num AdpType=Voc\",\"Num Case=Voc\",\"Num ConjType=Oper\",\"Num Gender=Fem,Masc\",\"Num Gender=Fem,Neut\",\"Num Gender=Masc,Neut\",\"Num Gender[psor]=Fem\",\"Num Gender[psor]=Masc\",\"Num Hyph=Yes\",\"Num NameType=Com\",\"Num NameType=Geo\",\"Num NameType=Giv\",\"Num NameType=Nat\",\"Num NameType=Sur\",\"Num NumType=Frac\",\"Num NumType=Sets\",\"Num NumValue=1\",\"Num NumValue=1,2,3\",\"Num Number=Dual\",\"Num Number=Plur,Sing\",\"Num Polarity=Pos\",\"Num PrepCase=Npr\",\"Num PrepCase=Pre\",\"Num PronType=Emp\",\"Num PronType=Int,Rel\",\"Num PronType=Tot\",\"Num Style=Arch\",\"Num Style=Coll\",\n",
    "        ]\n",
    "        \n",
    "X_train = np.load(\"./data/X_train.npy\")\n",
    "y_train = np.load(\"./data/y_train.npy\")\n",
    "X_test = np.load(\"./data/X_test.npy\")\n",
    "y_test = np.load(\"./data/y_test.npy\")"
   ]
  },
  {
   "cell_type": "code",
   "execution_count": 114,
   "metadata": {},
   "outputs": [],
   "source": [
    "vw_examples= get_vw_examples(X_train, y_train)"
   ]
  },
  {
   "cell_type": "markdown",
   "metadata": {},
   "source": [
    "## Set up the online learning loop"
   ]
  },
  {
   "cell_type": "code",
   "execution_count": 115,
   "metadata": {},
   "outputs": [],
   "source": [
    "from sklearn.metrics import mean_squared_error\n",
    "import random\n",
    "def online_learning_loop(iter_num, vw_examples, vw_alg, seed=0):\n",
    "    \"\"\"Implements the online learning loop.\n",
    "    \"\"\"\n",
    "    iter_num = len(vw_examples)\n",
    "    print('Online learning for', iter_num, 'steps...')\n",
    "    random.seed(seed)\n",
    "    random.shuffle(vw_examples)\n",
    "    loss_list = []\n",
    "    for i in range(iter_num):\n",
    "        vw_x = vw_examples[i]\n",
    "        y_true = float(vw_examples[i].split('|')[0])\n",
    "        # predict step\n",
    "        y_pred = vw_alg.predict(vw_x)\n",
    "        # learn step\n",
    "        vw_alg.learn(vw_x)\n",
    "        # calculate one step loss\n",
    "        loss = mean_squared_error([y_pred], [y_true])\n",
    "        loss_list.append(loss)\n",
    "    return loss_list\n",
    "\n",
    "max_iter_num = len(vw_examples)"
   ]
  },
  {
   "cell_type": "markdown",
   "metadata": {},
   "source": [
    "## Vanilla Vowpal Wabbit (VW)\n",
    "Create and run a vanilla vowpal wabbit learner."
   ]
  },
  {
   "cell_type": "code",
   "execution_count": 116,
   "metadata": {},
   "outputs": [
    {
     "name": "stdout",
     "output_type": "stream",
     "text": [
      "Online learning for 60588 steps...\n",
      "Final progressive validation loss of vanilla vw: 0.31790863399029884\n"
     ]
    }
   ],
   "source": [
    "from vowpalwabbit import pyvw\n",
    "''' create a vanilla vw instance '''\n",
    "vanilla_vw = pyvw.vw('--quiet', loss_function= 'squared')\n",
    "\n",
    "# online learning with vanilla VW\n",
    "loss_list_vanilla = online_learning_loop(max_iter_num, vw_examples, vanilla_vw)\n",
    "print('Final progressive validation loss of vanilla vw:', sum(loss_list_vanilla)/len(loss_list_vanilla))"
   ]
  },
  {
   "cell_type": "markdown",
   "metadata": {},
   "source": [
    "## AutoVW which tunes namespace interactions\n",
    "Create and run an AutoVW instance which tunes namespace interactions. Each AutoVW instance allows max_live_model_num of VW models (each associated with its own hyperaparameter configurations that are tuned online) to run concurrently in each step of the online learning loop."
   ]
  },
  {
   "cell_type": "code",
   "execution_count": 117,
   "metadata": {},
   "outputs": [
    {
     "name": "stdout",
     "output_type": "stream",
     "text": [
      "Online learning for 60588 steps...\n",
      "Final progressive validation loss of autovw: 0.3177527386012542\n"
     ]
    }
   ],
   "source": [
    "''' import AutoVW class from flaml package '''\n",
    "from flaml import AutoVW\n",
    "\n",
    "'''create an AutoVW instance for tuning namespace interactions'''\n",
    "# configure both hyperparamters to tune, e.g., 'interactions', and fixed arguments about the online learner,\n",
    "# e.g., 'quiet' in the search_space argument.\n",
    "autovw_ni = AutoVW(max_live_model_num=5, search_space={'interactions': AutoVW.AUTOMATIC, 'quiet': '',})\n",
    "\n",
    "# online learning with AutoVW\n",
    "loss_list_autovw_ni = online_learning_loop(max_iter_num, vw_examples, autovw_ni)\n",
    "print('Final progressive validation loss of autovw:', sum(loss_list_autovw_ni)/len(loss_list_autovw_ni))"
   ]
  },
  {
   "cell_type": "markdown",
   "metadata": {},
   "source": [
    "## Online performance comparison between vanilla VW and AutoVW"
   ]
  },
  {
   "cell_type": "code",
   "execution_count": 118,
   "metadata": {},
   "outputs": [
    {
     "data": {
      "image/png": "[encoded data removed]",
      "text/plain": [
       "<Figure size 576x432 with 1 Axes>"
      ]
     },
     "metadata": {
      "needs_background": "light"
     },
     "output_type": "display_data"
    }
   ],
   "source": [
    "import matplotlib.pyplot as plt\n",
    "def plot_progressive_loss(obj_list, alias, result_interval=1):\n",
    "    \"\"\"Show real-time progressive validation loss\n",
    "    \"\"\"\n",
    "    avg_list = [sum(obj_list[:i]) / i for i in range(1, len(obj_list))]\n",
    "    total_obs = len(avg_list)\n",
    "    warm_starting_point = 10 #0\n",
    "    plt.plot(range(warm_starting_point, len(avg_list)), avg_list[warm_starting_point:], label = alias)\n",
    "    plt.xlabel('# of data samples',)\n",
    "    plt.ylabel('Progressive validation loss')\n",
    "    plt.yscale('log')\n",
    "    plt.legend(loc='upper right')\n",
    "plt.figure(figsize=(8, 6))\n",
    "plot_progressive_loss(loss_list_vanilla, 'VanillaVW')\n",
    "plot_progressive_loss(loss_list_autovw_ni, 'AutoVW:NI')\n",
    "plt.show()"
   ]
  },
  {
   "cell_type": "code",
   "execution_count": 123,
   "metadata": {},
   "outputs": [],
   "source": [
    "y_pred = []\n",
    "for i in range(X_test.shape[0]):\n",
    "    ex = get_test_example(X_test[i])\n",
    "    y_pred.append(autovw_ni.predict(ex))"
   ]
  },
  {
   "cell_type": "code",
   "execution_count": 124,
   "metadata": {},
   "outputs": [
    {
     "name": "stdout",
     "output_type": "stream",
     "text": [
      "R2  : 0.04012210502131974\n",
      "MAE : 0.4114179295286657\n",
      "MSE: 0.3136059579235133\n"
     ]
    }
   ],
   "source": [
    "from sklearn.metrics import  r2_score, mean_absolute_error , mean_squared_error\n",
    "print(f\"R2  : {r2_score(y_test, y_pred)}\")\n",
    "print(f\"MAE : {mean_absolute_error(y_test, y_pred)}\")\n",
    "print(f\"MSE: {mean_squared_error(y_test, y_pred)}\")"
   ]
  },
  {
   "cell_type": "code",
   "execution_count": 125,
   "metadata": {},
   "outputs": [
    {
     "name": "stdout",
     "output_type": "stream",
     "text": [
      "R2  : 0.04012210502131974\n",
      "MAE : 0.4114179295286657\n",
      "MSE: 0.3136059579235133\n"
     ]
    }
   ],
   "source": [
    "from sklearn.metrics import  r2_score, mean_absolute_error , mean_squared_error\n",
    "print(f\"R2  : {r2_score(y_test, y_pred)}\")\n",
    "print(f\"MAE : {mean_absolute_error(y_test, y_pred)}\")\n",
    "print(f\"MSE: {mean_squared_error(y_test, y_pred)}\")"
   ]
  },
  {
   "cell_type": "code",
   "execution_count": 126,
   "metadata": {},
   "outputs": [
    {
     "name": "stderr",
     "output_type": "stream",
     "text": [
      "/home/krishna/miniconda3/envs/interactive-learning/lib/python3.8/site-packages/seaborn/distributions.py:2619: FutureWarning: `distplot` is a deprecated function and will be removed in a future version. Please adapt your code to use either `displot` (a figure-level function with similar flexibility) or `kdeplot` (an axes-level function for kernel density plots).\n",
      "  warnings.warn(msg, FutureWarning)\n",
      "/home/krishna/miniconda3/envs/interactive-learning/lib/python3.8/site-packages/seaborn/distributions.py:2103: FutureWarning: The `axis` variable is no longer used and will be removed. Instead, assign variables directly to `x` or `y`.\n",
      "  warnings.warn(msg, FutureWarning)\n",
      "/home/krishna/miniconda3/envs/interactive-learning/lib/python3.8/site-packages/seaborn/distributions.py:2619: FutureWarning: `distplot` is a deprecated function and will be removed in a future version. Please adapt your code to use either `displot` (a figure-level function with similar flexibility) or `kdeplot` (an axes-level function for kernel density plots).\n",
      "  warnings.warn(msg, FutureWarning)\n",
      "/home/krishna/miniconda3/envs/interactive-learning/lib/python3.8/site-packages/seaborn/distributions.py:2103: FutureWarning: The `axis` variable is no longer used and will be removed. Instead, assign variables directly to `x` or `y`.\n",
      "  warnings.warn(msg, FutureWarning)\n"
     ]
    },
    {
     "data": {
      "text/plain": [
       "Text(0.5, 1.0, 'Online Regression')"
      ]
     },
     "execution_count": 126,
     "metadata": {},
     "output_type": "execute_result"
    },
    {
     "data": {
      "image/png": "[encoded data removed]",
      "text/plain": [
       "<Figure size 432x288 with 1 Axes>"
      ]
     },
     "metadata": {
      "needs_background": "light"
     },
     "output_type": "display_data"
    }
   ],
   "source": [
    "\n",
    "sns.distplot(y_test, hist=False, rug=True)\n",
    "sns.distplot(y_pred, hist=False, rug=True)\n",
    "plt.title(\"Online Regression\")"
   ]
  },
  {
   "cell_type": "code",
   "execution_count": null,
   "metadata": {},
   "outputs": [],
   "source": []
  }
 ],
 "metadata": {
  "interpreter": {
   "hash": "b49589068baa6bec98c3349fdcd559e038c68bae5a4c5a7d44d7dd6cd95a33f2"
  },
  "kernelspec": {
   "display_name": "Python 3.8.12 64-bit ('interactive-learning': conda)",
   "language": "python",
   "name": "python3"
  },
  "language_info": {
   "codemirror_mode": {
    "name": "ipython",
    "version": 3
   },
   "file_extension": ".py",
   "mimetype": "text/x-python",
   "name": "python",
   "nbconvert_exporter": "python",
   "pygments_lexer": "ipython3",
   "version": "3.8.12"
  },
  "orig_nbformat": 4
 },
 "nbformat": 4,
 "nbformat_minor": 2
}
