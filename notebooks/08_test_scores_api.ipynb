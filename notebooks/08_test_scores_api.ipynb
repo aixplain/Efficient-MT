{
 "cells": [
  {
   "cell_type": "code",
   "execution_count": 1,
   "metadata": {},
   "outputs": [],
   "source": [
    "import requests\n",
    "import json\n",
    "from time import sleep\n",
    "\n",
    "\n",
    "BASE_URL = \"https://benchmarking-scoring.aixplain.io/\"\n",
    "headers = {\n",
    "  'Content-Type': 'application/json'\n",
    "}\n",
    "\n",
    "\n",
    "\n"
   ]
  },
  {
   "cell_type": "code",
   "execution_count": 2,
   "metadata": {},
   "outputs": [],
   "source": [
    "input_payload = {\n",
    "  \"input\": '[\"Michael Jackson wore tape on his nose to get f\",\"Michael Jackson wore tape on his nose to get f\",\"Michael Jackson wore tape on his nose to get f\",\"Michael Jackson wore tape on his nose to get f\"]',\n",
    "  \"output\": '[\"Michael Jackson trug Klebeband auf der Nase\",\"Michael Jackson trug Klebeband auf der Nase\",\"Michael Jackson trug Klebeband auf der Nase\",\"Michael Jackson trug Klebeband auf der Nase\"]',\n",
    "  \"refs\": \"\",\n",
    "  \"mode\": \"string\",\n",
    "  \"data_uri\": \"string\",\n",
    "  \"metric_name\": \"string\"\n",
    "}\n",
    "\n",
    "tmp_response = requests.request(\"POST\", BASE_URL+\"startasynctranslationscores\", headers=headers, data=json.dumps(input_payload))\n",
    "tmp_response = tmp_response.json()\n",
    "\n",
    "\n",
    "\n"
   ]
  },
  {
   "cell_type": "code",
   "execution_count": 3,
   "metadata": {},
   "outputs": [],
   "source": [
    "if \"request_id\" in tmp_response:\n",
    "    req_id = tmp_response[\"request_id\"]\n",
    "    get_score_payload = {\n",
    "    \"request_id\": f\"{req_id}\"\n",
    "    }"
   ]
  },
  {
   "cell_type": "code",
   "execution_count": 4,
   "metadata": {},
   "outputs": [],
   "source": [
    "while True :\n",
    "    sleep(0.05)\n",
    "    scores_response = requests.request(\"POST\", BASE_URL+\"getscores\", headers=headers, data=json.dumps(get_score_payload))\n",
    "    scores_response = scores_response.json() \n",
    "    if scores_response['completed']:\n",
    "        break\n",
    "        "
   ]
  },
  {
   "cell_type": "code",
   "execution_count": 5,
   "metadata": {},
   "outputs": [],
   "source": [
    "scores = scores_response['data']\n",
    "clsss = scores['CLSSS']\n",
    "comet = [scores['COMET_QE, cased, punctuated'], scores['COMET_QE, cased, not punctuated'],  scores['COMET_QE, uncased, punctuated'], scores['COMET_QE, uncased, not punctuated']]\n",
    "comet = [float(_) for _ in comet]"
   ]
  },
  {
   "cell_type": "code",
   "execution_count": 6,
   "metadata": {},
   "outputs": [
    {
     "data": {
      "text/plain": [
       "{'CLSSS': 84.1,\n",
       " 'COMET_QE, cased, punctuated': '0.6066',\n",
       " 'COMET_QE, cased, not punctuated': '0.6066',\n",
       " 'COMET_QE, uncased, punctuated': '0.4995',\n",
       " 'COMET_QE, uncased, not punctuated': '0.4995'}"
      ]
     },
     "execution_count": 6,
     "metadata": {},
     "output_type": "execute_result"
    }
   ],
   "source": [
    "scores_response['data']"
   ]
  },
  {
   "cell_type": "code",
   "execution_count": 7,
   "metadata": {},
   "outputs": [
    {
     "data": {
      "text/plain": [
       "84.1"
      ]
     },
     "execution_count": 7,
     "metadata": {},
     "output_type": "execute_result"
    }
   ],
   "source": [
    "clsss"
   ]
  },
  {
   "cell_type": "code",
   "execution_count": null,
   "metadata": {},
   "outputs": [],
   "source": []
  }
 ],
 "metadata": {
  "interpreter": {
   "hash": "b49589068baa6bec98c3349fdcd559e038c68bae5a4c5a7d44d7dd6cd95a33f2"
  },
  "kernelspec": {
   "display_name": "Python 3.8.12 64-bit ('interactive-learning': conda)",
   "language": "python",
   "name": "python3"
  },
  "language_info": {
   "codemirror_mode": {
    "name": "ipython",
    "version": 3
   },
   "file_extension": ".py",
   "mimetype": "text/x-python",
   "name": "python",
   "nbconvert_exporter": "python",
   "pygments_lexer": "ipython3",
   "version": "3.8.12"
  },
  "orig_nbformat": 4
 },
 "nbformat": 4,
 "nbformat_minor": 2
}
