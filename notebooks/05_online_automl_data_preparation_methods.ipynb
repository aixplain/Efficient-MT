{
 "cells": [
  {
   "cell_type": "code",
   "execution_count": 1,
   "metadata": {},
   "outputs": [],
   "source": [
    "import os\n",
    "from os.path import join\n",
    "import re\n",
    "import pickle\n",
    "\n",
    "from glob import glob\n",
    "import pandas as pd\n",
    "import matplotlib.pyplot as plt\n",
    "import numpy as np\n",
    "import seaborn as sns\n",
    "from sklearn import preprocessing\n",
    "from sklearn.model_selection import train_test_split\n",
    "\n",
    "from vowpalwabbit.DFtoVW import DFtoVW\n",
    "from vowpalwabbit.pyvw import vw\n",
    "\n",
    "# Graphical\n",
    "SUPTITLE_FONTSIZE = 20\n",
    "SUPTITLE_FONTWEIGHT = \"bold\"\n",
    "TITLE_FONTSIZE = 15"
   ]
  },
  {
   "cell_type": "code",
   "execution_count": 2,
   "metadata": {},
   "outputs": [
    {
     "name": "stdout",
     "output_type": "stream",
     "text": [
      "(79020, 123)\n"
     ]
    }
   ],
   "source": [
    "feature_names =[\"Num token\",\"Num char\",\"Avg word length\",\"Num ADJ\",\"Num ADP\",\"Num ADV\",\"Num AUX\",\"Num CCONJ\",\"Num DET\",\"Num INTJ\",\"Num NOUN\",\"Num NUM\",\"Num PART\",\"Num PRON\",\"Num PROPN\",\"Num PUNCT\",\"Num SCONJ\",\"Num SYM\",\"Num VERB\",\"Num X\",\"Num LOC\",\"Num MISC\",\"Num ORG\",\"Num PER\",\"Num Abbr=Yes\",\"Num Case=Acc\",\"Num Case=Nom\",\"Num Definite=Def\",\"Num Definite=Ind\",\"Num Degree=Cmp\",\"Num Degree=Pos\",\"Num Degree=Sup\",\"Num Foreign=Yes\",\"Num Gender=Fem\",\"Num Gender=Masc\",\"Num Gender=Neut\",\"Num Mood=Imp\",\"Num Mood=Ind\",\"Num NumForm=Digit\",\"Num NumForm=Word\",\"Num NumType=Card\",\"Num NumType=Mult\",\"Num NumType=Ord\",\"Num Number=Plur\",\"Num Number=Sing\",\"Num Person=1\",\"Num Person=2\",\"Num Person=3\",\"Num Polarity=Neg\",\"Num Poss=Yes\",\"Num PronType=Art\",\"Num PronType=Dem\",\"Num PronType=Int\",\"Num PronType=Prs\",\"Num PronType=Rel\",\"Num Reflex=Yes\",\"Num Tense=Past\",\"Num Tense=Pres\",\"Num VerbForm=Fin\",\"Num VerbForm=Ger\",\"Num VerbForm=Inf\",\"Num VerbForm=Part\",\"Num Voice=Pass\",\"Num Style=Expr\",\"Num NumForm=Roman\",\"Num Mood=Cnd\",\"Num Mood=Sub\",\"Num Number[psor]=Plur\",\"Num Number[psor]=Sing\",\"Num Person[psor]=1\",\"Num Person[psor]=2\",\"Num Person[psor]=3\",\"Num PronType=Exc\",\"Num PronType=Ind\",\"Num PronType=Neg\",\"Num Tense=Fut\",\"Num Tense=Imp\",\"Num Typo=Yes\",\"Num Case=Dat\",\"Num Case=Gen\",\"Num Gender[psor]=Masc,Neut\",\"Num Animacy=Anim\",\"Num Animacy=Inan\",\"Num Aspect=Imp\",\"Num Aspect=Perf\",\"Num Case=Ins\",\"Num Case=Loc\",\"Num Variant=Short\",\"Num VerbForm=Conv\",\"Num Voice=Act\",\"Num Voice=Mid\",\"Num AdpType=Comprep\",\"Num AdpType=Prep\",\"Num AdpType=Voc\",\"Num Case=Voc\",\"Num ConjType=Oper\",\"Num Gender=Fem,Masc\",\"Num Gender=Fem,Neut\",\"Num Gender=Masc,Neut\",\"Num Gender[psor]=Fem\",\"Num Gender[psor]=Masc\",\"Num Hyph=Yes\",\"Num NameType=Com\",\"Num NameType=Geo\",\"Num NameType=Giv\",\"Num NameType=Nat\",\"Num NameType=Sur\",\"Num NumType=Frac\",\"Num NumType=Sets\",\"Num NumValue=1\",\"Num NumValue=1,2,3\",\"Num Number=Dual\",\"Num Number=Plur,Sing\",\"Num Polarity=Pos\",\"Num PrepCase=Npr\",\"Num PrepCase=Pre\",\"Num PronType=Emp\",\"Num PronType=Int,Rel\",\"Num PronType=Tot\",\"Num Style=Arch\",\"Num Style=Coll\",\n",
    "        ]\n",
    "files = sorted(glob(\"./data/wmt_2020/*.pkl\"))\n",
    "features = []\n",
    "labels = []\n",
    "indexes = []\n",
    "for file in files:\n",
    "    with open(file, 'rb') as handle:\n",
    "        b = pickle.load(handle)\n",
    "    features.append(b['target-source'])\n",
    "    labels.append(b['severity'])\n",
    "    indexes.append(int(file.rsplit(os.sep, 1)[-1].split(\".\")[0]))\n",
    "features = np.concatenate(features, axis=0)\n",
    "labels = np.vstack(labels)\n",
    "indexes = np.vstack(indexes)\n",
    "data = np.concatenate([indexes, features, labels], axis=1)\n",
    "\n",
    "df = pd.DataFrame(data, columns=['sample_id']+feature_names+[\"label\"])\n",
    "print(df.shape)\n",
    "df.head()\n",
    "df[feature_names] = df[feature_names].astype(float)"
   ]
  },
  {
   "cell_type": "code",
   "execution_count": 3,
   "metadata": {},
   "outputs": [],
   "source": [
    "df.set_index('sample_id', inplace=True)"
   ]
  },
  {
   "cell_type": "code",
   "execution_count": 4,
   "metadata": {},
   "outputs": [],
   "source": [
    "df[df == \"nan\"] = np.nan\n",
    "df = df[df['label'].notna()]"
   ]
  },
  {
   "cell_type": "code",
   "execution_count": 5,
   "metadata": {},
   "outputs": [],
   "source": [
    "## Combining neutral with no-error\n",
    "df.label = df.label.replace({\n",
    "    \"no-error\":\"Neutral\",\n",
    "    \"No-error\":\"Neutral\",\n",
    "    \"word order\": \"Minor\",\n",
    "}).values.reshape(-1,1)"
   ]
  },
  {
   "cell_type": "code",
   "execution_count": 6,
   "metadata": {},
   "outputs": [],
   "source": [
    "df.label = df.label.replace({\n",
    "                                \"Neutral\": 1,\n",
    "                                \"Minor\": 2, \n",
    "                                \"Major\":3, \n",
    "                            }).values.reshape(-1,1)\n",
    "df[['label']] =  df[['label']].astype(int)\n",
    "df[df == \"nan\"] = np.nan"
   ]
  },
  {
   "cell_type": "code",
   "execution_count": 7,
   "metadata": {},
   "outputs": [
    {
     "data": {
      "text/plain": [
       "<AxesSubplot:ylabel='Count'>"
      ]
     },
     "execution_count": 7,
     "metadata": {},
     "output_type": "execute_result"
    },
    {
     "data": {
      "image/png": "[encoded data removed]",
      "text/plain": [
       "<Figure size 432x288 with 1 Axes>"
      ]
     },
     "metadata": {
      "needs_background": "light"
     },
     "output_type": "display_data"
    }
   ],
   "source": [
    "sns.histplot(df.label.values)"
   ]
  },
  {
   "cell_type": "code",
   "execution_count": 39,
   "metadata": {},
   "outputs": [],
   "source": [
    "df.to_csv(\"data/wmt_2020_features.csv\", index=True)"
   ]
  },
  {
   "cell_type": "code",
   "execution_count": 7,
   "metadata": {},
   "outputs": [],
   "source": [
    "import numpy as np\n",
    "import string\n",
    "NS_LIST = list(string.ascii_lowercase) + list(string.ascii_uppercase)\n",
    "\n",
    "X = df[feature_names].values\n",
    "y = df[['label']].values.reshape(-1,)\n",
    "X_train, X_test, y_train, y_test =  train_test_split(X,y, test_size=0.33, random_state=42, stratify=y)"
   ]
  },
  {
   "cell_type": "code",
   "execution_count": 8,
   "metadata": {},
   "outputs": [],
   "source": [
    "np.save(\"./data/X_train.npy\", X_train)\n",
    "np.save(\"./data/y_train.npy\", y_train)\n",
    "np.save(\"./data/X_test.npy\", X_test)\n",
    "np.save(\"./data/y_test.npy\", y_test)"
   ]
  },
  {
   "cell_type": "code",
   "execution_count": 75,
   "metadata": {},
   "outputs": [],
   "source": [
    "X_train = np.load(\"./data/X_train.npy\")\n",
    "y_train = np.load(\"./data/y_train.npy\")\n",
    "X_test = np.load(\"./data/X_test.npy\")\n",
    "y_test = np.load(\"./data/y_test.npy\")"
   ]
  },
  {
   "cell_type": "markdown",
   "metadata": {},
   "source": [
    "## Prepare the datasert in the vowpalwabbit format"
   ]
  },
  {
   "cell_type": "code",
   "execution_count": 26,
   "metadata": {},
   "outputs": [],
   "source": [
    "def default_label_str(y):\n",
    "    return f\"{y}\"\n",
    "\n",
    "def default_feature_str(x:list):\n",
    "    return \" \".join([f\"{j}:{x[j]}\" for j in range(len(x))])\n",
    "\n",
    "def get_training_example(x,y, label_str_fn = default_label_str, feature_str_fn = default_feature_str):\n",
    "    return f\"{label_str_fn(y)} | {feature_str_fn(x)}\"\n",
    "\n",
    "def get_test_example(x, label_str_fn = default_label_str, feature_str_fn = default_feature_str):\n",
    "    return f\"| {feature_str_fn(x)}\"\n",
    "\n",
    "def get_vw_examples(X, y, label_str_fn = default_label_str, feature_str_fn = default_feature_str):\n",
    "    vw_examples = []\n",
    "    for i in range(X.shape[0]):\n",
    "        vw_examples.append(get_training_example(X[i], y[i], label_str_fn = label_str_fn, feature_str_fn = feature_str_fn))\n",
    "    return vw_examples\n",
    "\n",
    "    "
   ]
  },
  {
   "cell_type": "code",
   "execution_count": 27,
   "metadata": {},
   "outputs": [],
   "source": [
    "vw_examples= get_vw_examples(X_train, y_train)"
   ]
  },
  {
   "cell_type": "markdown",
   "metadata": {},
   "source": [
    "## Set up the online learning loop"
   ]
  },
  {
   "cell_type": "code",
   "execution_count": 28,
   "metadata": {},
   "outputs": [],
   "source": [
    "from sklearn.metrics import mean_squared_error\n",
    "import random\n",
    "def online_learning_loop(iter_num, vw_examples, vw_alg, seed=0):\n",
    "    \"\"\"Implements the online learning loop.\n",
    "    \"\"\"\n",
    "    iter_num = len(vw_examples)\n",
    "    print('Online learning for', iter_num, 'steps...')\n",
    "    random.seed(seed)\n",
    "    random.shuffle(vw_examples)\n",
    "    loss_list = []\n",
    "    for i in range(iter_num):\n",
    "        vw_x = vw_examples[i]\n",
    "        y_true = float(vw_examples[i].split('|')[0])\n",
    "        # predict step\n",
    "        y_pred = vw_alg.predict(vw_x)\n",
    "        # learn step\n",
    "        vw_alg.learn(vw_x)\n",
    "        # calculate one step loss\n",
    "        loss = mean_squared_error([y_pred], [y_true])\n",
    "        loss_list.append(loss)\n",
    "    return loss_list\n",
    "\n",
    "max_iter_num = len(vw_examples)"
   ]
  },
  {
   "cell_type": "markdown",
   "metadata": {},
   "source": [
    "## Vanilla Vowpal Wabbit (VW)\n",
    "Create and run a vanilla vowpal wabbit learner."
   ]
  },
  {
   "cell_type": "code",
   "execution_count": 29,
   "metadata": {},
   "outputs": [
    {
     "name": "stdout",
     "output_type": "stream",
     "text": [
      "Online learning for 52943 steps...\n",
      "Final progressive validation loss of vanilla vw: 0.5768117603318698\n"
     ]
    }
   ],
   "source": [
    "from vowpalwabbit import pyvw\n",
    "''' create a vanilla vw instance '''\n",
    "vanilla_vw = pyvw.vw('--quiet', loss_function= 'squared')\n",
    "\n",
    "# online learning with vanilla VW\n",
    "loss_list_vanilla = online_learning_loop(max_iter_num, vw_examples, vanilla_vw)\n",
    "print('Final progressive validation loss of vanilla vw:', sum(loss_list_vanilla)/len(loss_list_vanilla))"
   ]
  },
  {
   "cell_type": "code",
   "execution_count": 33,
   "metadata": {},
   "outputs": [],
   "source": [
    "y_pred = []\n",
    "for i in range(X_test.shape[0]):\n",
    "    ex = get_test_example(X_test[i])\n",
    "    y_pred.append(vanilla_vw.predict(ex))"
   ]
  },
  {
   "cell_type": "code",
   "execution_count": 35,
   "metadata": {},
   "outputs": [
    {
     "name": "stdout",
     "output_type": "stream",
     "text": [
      "R2  : 0.017791950120346067\n",
      "MAE : 0.4572558777895598\n",
      "MSE: 0.5731291643000318\n"
     ]
    }
   ],
   "source": [
    "from sklearn.metrics import  r2_score, mean_absolute_error , mean_squared_error\n",
    "print(f\"R2  : {r2_score(y_test, y_pred)}\")\n",
    "print(f\"MAE : {mean_absolute_error(y_test, y_pred)}\")\n",
    "print(f\"MSE: {mean_squared_error(y_test, y_pred)}\")"
   ]
  },
  {
   "cell_type": "code",
   "execution_count": 9,
   "metadata": {},
   "outputs": [],
   "source": [
    "df_input = pd.read_csv(\n",
    "    \"./wmt-mqm-human-evaluation/newstest2020/ende/mqm_newstest2020_ende.tsv\", sep=\"\\t\"\n",
    ")"
   ]
  },
  {
   "cell_type": "code",
   "execution_count": 21,
   "metadata": {},
   "outputs": [
    {
     "data": {
      "text/plain": [
       "{0: 'Accuracy/Addition',\n",
       " 1: 'Accuracy/Mistranslation',\n",
       " 2: 'Accuracy/Omission',\n",
       " 3: 'Accuracy/Untranslated text',\n",
       " 4: 'Fluency/Character encoding',\n",
       " 5: 'Fluency/Grammar',\n",
       " 6: 'Fluency/Inconsistency',\n",
       " 7: 'Fluency/Punctuation',\n",
       " 8: 'Fluency/Register',\n",
       " 9: 'Fluency/Spelling',\n",
       " 10: 'Locale convention/Address format',\n",
       " 11: 'Locale convention/Currency format',\n",
       " 12: 'Locale convention/Date format',\n",
       " 13: 'Locale convention/Time format',\n",
       " 14: 'Non-translation!',\n",
       " 15: 'Other',\n",
       " 16: 'Other/-',\n",
       " 17: 'Style/Awkward',\n",
       " 18: 'Terminology/Inappropriate for context',\n",
       " 19: 'Terminology/Inconsistent use of terminology',\n",
       " 20: 'no-error'}"
      ]
     },
     "execution_count": 21,
     "metadata": {},
     "output_type": "execute_result"
    }
   ],
   "source": [
    "{i:v for i,v in enumerate(sorted(df_input.category.unique()))}"
   ]
  },
  {
   "cell_type": "code",
   "execution_count": 17,
   "metadata": {},
   "outputs": [],
   "source": [
    "df_2021 = pd.read_csv(\n",
    "    \"./wmt-mqm-human-evaluation/newstest2021/ende/mqm-newstest2021_ende.tsv\",\n",
    "    sep=\"\\t\",\n",
    "    on_bad_lines=\"skip\",\n",
    ")"
   ]
  },
  {
   "cell_type": "code",
   "execution_count": 20,
   "metadata": {},
   "outputs": [
    {
     "data": {
      "text/plain": [
       "{0: 'Accuracy/Addition',\n",
       " 1: 'Accuracy/Mistranslation',\n",
       " 2: 'Accuracy/Omission',\n",
       " 3: 'Accuracy/Untranslated',\n",
       " 4: 'Fluency/Display',\n",
       " 5: 'Fluency/Grammar',\n",
       " 6: 'Fluency/Inconsistency',\n",
       " 7: 'Fluency/Punctuation',\n",
       " 8: 'Fluency/Register',\n",
       " 9: 'Fluency/Spelling',\n",
       " 10: 'Locale_convention/Currency',\n",
       " 11: 'Locale_convention/Date',\n",
       " 12: 'Locale_convention/Time',\n",
       " 13: 'Major',\n",
       " 14: 'Minor',\n",
       " 15: 'No-error',\n",
       " 16: 'Source_error',\n",
       " 17: 'Style/Awkward',\n",
       " 18: 'Terminology/Inappropriate',\n",
       " 19: 'Terminology/Inconsistent'}"
      ]
     },
     "execution_count": 20,
     "metadata": {},
     "output_type": "execute_result"
    }
   ],
   "source": [
    "{i:v for i,v in enumerate(sorted(df_2021.category.unique()))}"
   ]
  },
  {
   "cell_type": "code",
   "execution_count": 27,
   "metadata": {},
   "outputs": [
    {
     "data": {
      "text/plain": [
       "{0: 'Accuracy/Addition',\n",
       " 1: 'Accuracy/Mistranslation',\n",
       " 2: 'Accuracy/Omission',\n",
       " 3: 'Accuracy/Untranslated',\n",
       " 4: 'Accuracy/Untranslated text',\n",
       " 5: 'Fluency/Character encoding',\n",
       " 6: 'Fluency/Display',\n",
       " 7: 'Fluency/Grammar',\n",
       " 8: 'Fluency/Inconsistency',\n",
       " 9: 'Fluency/Punctuation',\n",
       " 10: 'Fluency/Register',\n",
       " 11: 'Fluency/Spelling',\n",
       " 12: 'Locale convention/Address format',\n",
       " 13: 'Locale convention/Currency format',\n",
       " 14: 'Locale convention/Date format',\n",
       " 15: 'Locale convention/Time format',\n",
       " 16: 'Locale_convention/Currency',\n",
       " 17: 'Locale_convention/Date',\n",
       " 18: 'Locale_convention/Time',\n",
       " 19: 'Major',\n",
       " 20: 'Minor',\n",
       " 21: 'No-error',\n",
       " 22: 'Non-translation!',\n",
       " 23: 'Other',\n",
       " 24: 'Other/-',\n",
       " 25: 'Source_error',\n",
       " 26: 'Style/Awkward',\n",
       " 27: 'Terminology/Inappropriate',\n",
       " 28: 'Terminology/Inappropriate for context',\n",
       " 29: 'Terminology/Inconsistent',\n",
       " 30: 'Terminology/Inconsistent use of terminology',\n",
       " 31: 'no-error'}"
      ]
     },
     "execution_count": 27,
     "metadata": {},
     "output_type": "execute_result"
    }
   ],
   "source": [
    "{i:k for i,k in enumerate(sorted(list(set(list(df_2021.category.unique()) + list(df_input.category.unique())))))}\n"
   ]
  },
  {
   "cell_type": "code",
   "execution_count": null,
   "metadata": {},
   "outputs": [],
   "source": []
  }
 ],
 "metadata": {
  "interpreter": {
   "hash": "b49589068baa6bec98c3349fdcd559e038c68bae5a4c5a7d44d7dd6cd95a33f2"
  },
  "kernelspec": {
   "display_name": "Python 3.8.12 64-bit ('interactive-learning': conda)",
   "language": "python",
   "name": "python3"
  },
  "language_info": {
   "codemirror_mode": {
    "name": "ipython",
    "version": 3
   },
   "file_extension": ".py",
   "mimetype": "text/x-python",
   "name": "python",
   "nbconvert_exporter": "python",
   "pygments_lexer": "ipython3",
   "version": "3.8.12"
  },
  "orig_nbformat": 4
 },
 "nbformat": 4,
 "nbformat_minor": 2
}
