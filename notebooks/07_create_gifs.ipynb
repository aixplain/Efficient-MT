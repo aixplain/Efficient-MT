{
 "cells": [
  {
   "cell_type": "code",
   "execution_count": 10,
   "metadata": {},
   "outputs": [],
   "source": [
    "import imageio\n",
    "from glob import glob\n",
    "from PIL import Image, ImageFont, ImageDraw\n",
    "\n"
   ]
  },
  {
   "cell_type": "code",
   "execution_count": 19,
   "metadata": {},
   "outputs": [],
   "source": [
    "title_font  = ImageFont.load_default()\n",
    "for algo in[\"flaml\", \"online\"]:\n",
    "    filenames = sorted(glob(f\"./figures_classification_percent_{algo}/*jpg\"))\n",
    "    with imageio.get_writer(f'{algo}.gif', mode='I') as writer:\n",
    "        for i, filename in enumerate(filenames):\n",
    "            my_image = Image.open(filename)\n",
    "\n",
    "            image_editable = ImageDraw.Draw(my_image)\n",
    "            image_editable.text((15,15), f\"Image: {i}\", (237, 230, 211), font=title_font)\n",
    "\n",
    "            my_image.save(\"image-text.jpg\")\n",
    "            image = imageio.imread(\"image-text.jpg\")\n",
    "            writer.append_data(image)"
   ]
  },
  {
   "cell_type": "code",
   "execution_count": 17,
   "metadata": {},
   "outputs": [],
   "source": []
  },
  {
   "cell_type": "code",
   "execution_count": null,
   "metadata": {},
   "outputs": [],
   "source": []
  }
 ],
 "metadata": {
  "interpreter": {
   "hash": "b49589068baa6bec98c3349fdcd559e038c68bae5a4c5a7d44d7dd6cd95a33f2"
  },
  "kernelspec": {
   "display_name": "Python 3.8.12 64-bit ('interactive-learning': conda)",
   "language": "python",
   "name": "python3"
  },
  "language_info": {
   "codemirror_mode": {
    "name": "ipython",
    "version": 3
   },
   "file_extension": ".py",
   "mimetype": "text/x-python",
   "name": "python",
   "nbconvert_exporter": "python",
   "pygments_lexer": "ipython3",
   "version": "3.8.12"
  },
  "orig_nbformat": 4
 },
 "nbformat": 4,
 "nbformat_minor": 2
}
