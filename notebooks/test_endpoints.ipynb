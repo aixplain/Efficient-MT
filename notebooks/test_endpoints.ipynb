{
 "cells": [
  {
   "cell_type": "code",
   "execution_count": 1,
   "metadata": {},
   "outputs": [],
   "source": [
    "import requests\n",
    "import json\n",
    "BASE_URL = \"http://0.0.0.0:8088/\""
   ]
  },
  {
   "cell_type": "code",
   "execution_count": 3,
   "metadata": {},
   "outputs": [
    {
     "name": "stdout",
     "output_type": "stream",
     "text": [
      "{'system': 'Human-B.0', 'doc': 'en.ndtv.com.13152', 'doc_id': 4, 'seg_id': 17, 'rater': 'rater1', 'source': 'The Central Board of Indirect Taxes and Customs (CBIC) -- the agency that oversees GST and import tax collections -- compulsorily retired 15 senior officers under Fundamental Rule 56 (J) on corruption and other charges, official sources said.', 'target': 'Laut offizieller Quellen hat die zentrale Verwaltungsstelle für indirekte Steuern und Zoll (Central Board of Indirect Taxes and Customs – CBIC), die für die Waren- und Dienstleistungssteuer sowie die Erhebung von Importsteuern zuständig ist, 15 leitende Beamte gemäß Grundregel 56 (J) über Korruption und andere Vorwürfe zwangspensioniert.', 'category': 'no-error', 'severity': 1, 'sample_id': 845}\n"
     ]
    }
   ],
   "source": [
    "sample = requests.get(BASE_URL + \"get_next_sample\")\n",
    "sample = sample.json()\n",
    "print(sample)"
   ]
  },
  {
   "cell_type": "code",
   "execution_count": 4,
   "metadata": {},
   "outputs": [
    {
     "data": {
      "text/plain": [
       "845"
      ]
     },
     "execution_count": 4,
     "metadata": {},
     "output_type": "execute_result"
    }
   ],
   "source": [
    "sample['sample_id']"
   ]
  },
  {
   "cell_type": "code",
   "execution_count": null,
   "metadata": {},
   "outputs": [],
   "source": []
  }
 ],
 "metadata": {
  "interpreter": {
   "hash": "b49589068baa6bec98c3349fdcd559e038c68bae5a4c5a7d44d7dd6cd95a33f2"
  },
  "kernelspec": {
   "display_name": "Python 3.8.12 64-bit ('interactive-learning': conda)",
   "language": "python",
   "name": "python3"
  },
  "language_info": {
   "codemirror_mode": {
    "name": "ipython",
    "version": 3
   },
   "file_extension": ".py",
   "mimetype": "text/x-python",
   "name": "python",
   "nbconvert_exporter": "python",
   "pygments_lexer": "ipython3",
   "version": "3.8.12"
  },
  "orig_nbformat": 4
 },
 "nbformat": 4,
 "nbformat_minor": 2
}
